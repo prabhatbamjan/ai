{
  "nbformat": 4,
  "nbformat_minor": 0,
  "metadata": {
    "colab": {
      "provenance": []
    },
    "kernelspec": {
      "name": "python3",
      "display_name": "Python 3"
    },
    "language_info": {
      "name": "python"
    }
  },
  "cells": [
    {
      "cell_type": "markdown",
      "source": [
        "Manual Gradient Calculation in Numpy"
      ],
      "metadata": {
        "id": "ZawnKuLrUQ1-"
      }
    },
    {
      "cell_type": "code",
      "execution_count": 1,
      "metadata": {
        "colab": {
          "base_uri": "https://localhost:8080/",
          "height": 106
        },
        "id": "uM5w9542TAI7",
        "outputId": "861e1a9a-f51f-4f1b-9b90-65818d02d4bb"
      },
      "outputs": [
        {
          "output_type": "error",
          "ename": "IndentationError",
          "evalue": "expected an indented block after function definition on line 3 (<ipython-input-1-42bb4840d225>, line 4)",
          "traceback": [
            "\u001b[0;36m  File \u001b[0;32m\"<ipython-input-1-42bb4840d225>\"\u001b[0;36m, line \u001b[0;32m4\u001b[0m\n\u001b[0;31m    return x ** 2\u001b[0m\n\u001b[0m    ^\u001b[0m\n\u001b[0;31mIndentationError\u001b[0m\u001b[0;31m:\u001b[0m expected an indented block after function definition on line 3\n"
          ]
        }
      ],
      "source": [
        "import numpy as np\n",
        "# Simple function f(x) = x^2\n",
        "def f(x):\n",
        "return x ** 2\n",
        "# Manual derivative (f’(x) = 2x)\n",
        "def gradient(x):\n",
        "return 2 * x\n",
        "# Update rule: x = x - learning_rate * gradient\n",
        "x = 5.0\n",
        "learning_rate = 0.1\n",
        "for _ in range(10): # Manually optimize for 10 steps\n",
        "x -= learning_rate * gradient(x)\n",
        "print(f\"x: {x}, f(x): {f(x)}\")"
      ]
    },
    {
      "cell_type": "markdown",
      "source": [
        "Gradient Computations with Keras."
      ],
      "metadata": {
        "id": "-XfXEZU0UZIF"
      }
    },
    {
      "cell_type": "code",
      "source": [
        "import tensorflow as tf\n",
        "x = tf.Variable(5.0) # Trainable variable\n",
        "with tf.GradientTape() as tape:\n",
        "y = x ** 2 # y = x^2\n",
        "grad = tape.gradient(y, x) # Computes dy/dx automatically\n",
        "print(grad.numpy()) # Output: 10.0"
      ],
      "metadata": {
        "id": "uy0tFe8pUc07"
      },
      "execution_count": null,
      "outputs": []
    },
    {
      "cell_type": "markdown",
      "source": [
        "Example: Matrix Multiplication Speed (Numpy vs. Tensorflow on GPU)."
      ],
      "metadata": {
        "id": "J_9fe11bUgse"
      }
    },
    {
      "cell_type": "code",
      "source": [
        "import numpy as np\n",
        "import tensorflow as tf\n",
        "import time\n",
        "# Create large random matrices\n",
        "size = (1000, 1000)\n",
        "A = np.random.rand(*size)\n",
        "B = np.random.rand(*size)\n",
        "# NumPy Multiplication\n",
        "start = time.time()\n",
        "C_numpy = np.dot(A, B)\n",
        "print(\"NumPy Time:\", time.time() - start)\n",
        "# TensorFlow Multiplication (for colab uses GPU Runtime if available)\n",
        "A_tf = tf.constant(A)\n",
        "B_tf = tf.constant(B)\n",
        "start = time.time()\n",
        "C_tf = tf.matmul(A_tf, B_tf)\n",
        "print(\"TensorFlow Time:\", time.time() - start)"
      ],
      "metadata": {
        "id": "E6sVd6eMUiw1"
      },
      "execution_count": null,
      "outputs": []
    },
    {
      "cell_type": "markdown",
      "source": [
        "Manually Training Network in Numpy."
      ],
      "metadata": {
        "id": "fvDUttzJUj4d"
      }
    },
    {
      "cell_type": "code",
      "source": [
        "for epoch in range(10):\n",
        "# Forward pass\n",
        "y_pred = np.dot(x_train, weights)\n",
        "# Compute loss\n",
        "loss = np.mean((y_pred - y_train) ** 2)\n",
        "# Compute gradients manually\n",
        "gradients = 2 * np.dot(x_train.T, (y_pred - y_train)) / len(x_train)\n",
        "# Update weights\n",
        "weights -= learning_rate * gradients"
      ],
      "metadata": {
        "id": "Glnnl2yxUmiz"
      },
      "execution_count": null,
      "outputs": []
    },
    {
      "cell_type": "markdown",
      "source": [
        "keras training is One Line."
      ],
      "metadata": {
        "id": "90HrJ5DkUqeO"
      }
    },
    {
      "cell_type": "code",
      "source": [
        "model.fit(x_train, y_train, epochs=10, batch_size=32)"
      ],
      "metadata": {
        "id": "w1EvoRMSUrFS"
      },
      "execution_count": null,
      "outputs": []
    },
    {
      "cell_type": "markdown",
      "source": [
        "Layers in Keras."
      ],
      "metadata": {
        "id": "MbaCln97UtLO"
      }
    },
    {
      "cell_type": "code",
      "source": [
        "from tensorflow.keras.models import Sequential\n",
        "from tensorflow.keras.layers import Dense\n",
        "model = Sequential([\n",
        "Dense(64, activation=’relu’, input_shape=(784,)),\n",
        "Dense(10, activation=’softmax’)\n",
        "])"
      ],
      "metadata": {
        "id": "xlAemcRUUyVv"
      },
      "execution_count": null,
      "outputs": []
    },
    {
      "cell_type": "markdown",
      "source": [
        "Implementing SGD in Numpy."
      ],
      "metadata": {
        "id": "5yJ3g3S4U0ut"
      }
    },
    {
      "cell_type": "code",
      "source": [
        "learning_rate = 0.01\n",
        "weights = np.random.randn(3, 3)\n",
        "for _ in range(100): # Training loop\n",
        "gradient = np.random.randn(3, 3) # Fake gradient for illustration\n",
        "weights -= learning_rate * gradient"
      ],
      "metadata": {
        "id": "rUqvJNUsU33a"
      },
      "execution_count": null,
      "outputs": []
    },
    {
      "cell_type": "markdown",
      "source": [
        "In Keras."
      ],
      "metadata": {
        "id": "WrMCQGXnU4tE"
      }
    },
    {
      "cell_type": "code",
      "source": [
        "from tensorflow.keras.optimizers import SGD\n",
        "optimizer = SGD(learning_rate=0.01)"
      ],
      "metadata": {
        "id": "Sic6hsjuU7_C"
      },
      "execution_count": null,
      "outputs": []
    },
    {
      "cell_type": "markdown",
      "source": [
        "Suntax of Dense Layer."
      ],
      "metadata": {
        "id": "iAplnwLtU9M-"
      }
    },
    {
      "cell_type": "code",
      "source": [
        "from tensorflow.keras.layers import Dense\n",
        "layer = Dense(units, activation=None, use_bias=True, kernel_initializer=\"glorot_uniform\")"
      ],
      "metadata": {
        "id": "EVBca3bkVDY1"
      },
      "execution_count": null,
      "outputs": []
    },
    {
      "cell_type": "markdown",
      "source": [
        "Example: A Dense Layer with 64 Neurons and sigmoid Activation."
      ],
      "metadata": {
        "id": "ntp3eP2hVGRV"
      }
    },
    {
      "cell_type": "code",
      "source": [
        "from tensorflow.keras.layers import Dense\n",
        "layer = Dense(64, activation=\"sigmoid\") # 64 neurons with sigmoid activation"
      ],
      "metadata": {
        "id": "uvevi1xxVImM"
      },
      "execution_count": null,
      "outputs": []
    },
    {
      "cell_type": "markdown",
      "source": [
        "4 Building a Simple Fully Connected Neural Network in Keras.\n",
        "\n",
        "Load and Preprocess the Data:\n"
      ],
      "metadata": {
        "id": "03F-x_IhVPQL"
      }
    },
    {
      "cell_type": "code",
      "source": [
        "import os\n",
        "import numpy as np\n",
        "import tensorflow as tf\n",
        "from tensorflow.keras.utils import to_categorical\n",
        "from sklearn.model_selection import train_test_split\n",
        "import matplotlib.pyplot as plt\n",
        "from PIL import Image # Import Pillow\n",
        "# Define dataset paths\n",
        "train_dir = \"dataset/Train/\"\n",
        "test_dir = \"dataset/Test/\"\n",
        "# Define image size\n",
        "img_height, img_width = 28, 28\n",
        "# Function to load images and labels using PIL\n",
        "def load_images_from_folder(folder):\n",
        "images = []\n",
        "labels = []\n",
        "class_names = sorted(os.listdir(folder)) # Sorted class names (digit_0, digit_1, ...)\n",
        "class_map = {name: i for i, name in enumerate(class_names)} # Map class names to labels\n",
        "for class_name in class_names:\n",
        "class_path = os.path.join(folder, class_name)\n",
        "label = class_map[class_name]\n",
        "for filename in os.listdir(class_path):\n",
        "img_path = os.path.join(class_path, filename)\n",
        "# Load image using PIL\n",
        "img = Image.open(img_path).convert(\"L\") # Convert to grayscale\n",
        "img = img.resize((img_width, img_height)) # Resize to (28,28)\n",
        "img = np.array(img) / 255.0 # Normalize pixel values to [0,1]\n",
        "images.append(img)\n",
        "labels.append(label)\n",
        "return np.array(images), np.array(labels)\n",
        "# Load training and testing datasets\n",
        "x_train, y_train = load_images_from_folder(train_dir)\n",
        "x_test, y_test = load_images_from_folder(test_dir)\n",
        "# Reshape images for Keras input\n",
        "x_train = x_train.reshape(-1, img_height, img_width, 1) # Shape (num_samples, 28, 28, 1)\n",
        "x_test = x_test.reshape(-1, img_height, img_width, 1)\n",
        "# One-hot encode labels\n",
        "y_train = to_categorical(y_train, num_classes=10)\n",
        "y_test = to_categorical(y_test, num_classes=10)\n",
        "# Print dataset shape\n",
        "print(f\"Training set: {x_train.shape}, Labels: {y_train.shape}\")\n",
        "print(f\"Testing set: {x_test.shape}, Labels: {y_test.shape}\")\n",
        "# Visualize some images\n",
        "plt.figure(figsize=(10, 4))\n",
        "for i in range(10):\n",
        "plt.subplot(2, 5, i + 1)\n",
        "plt.imshow(x_train[i].reshape(28, 28), cmap=’gray’)\n",
        "plt.title(f\"Label: {np.argmax(y_train[i])}\")\n",
        "plt.axis(\"off\")\n",
        "plt.show()"
      ],
      "metadata": {
        "id": "5b3EL9QfVUl8"
      },
      "execution_count": null,
      "outputs": []
    },
    {
      "cell_type": "markdown",
      "source": [
        "Compatibility check for Grayscale Image:"
      ],
      "metadata": {
        "id": "mRrANO0yVXb2"
      }
    },
    {
      "cell_type": "code",
      "source": [
        "x_train = x_train.reshape(-1, img_height, img_width, 1)\n",
        "# Use with Cautions."
      ],
      "metadata": {
        "id": "n0sW9IxbVZ15"
      },
      "execution_count": null,
      "outputs": []
    },
    {
      "cell_type": "markdown",
      "source": [
        "Compatibility check for RGB Image:"
      ],
      "metadata": {
        "id": "N3JI4r9LVbtV"
      }
    },
    {
      "cell_type": "code",
      "source": [
        "x_train = x_train.reshape(-1, img_height, img_width, 3)\n",
        "# Use with Cautions."
      ],
      "metadata": {
        "id": "VvTV_Fj7Vdup"
      },
      "execution_count": null,
      "outputs": []
    },
    {
      "cell_type": "markdown",
      "source": [
        "Loading and Preprocessing MNIST Handwritten Digit Dataset:"
      ],
      "metadata": {
        "id": "DbVg41b8Vfvx"
      }
    },
    {
      "cell_type": "code",
      "source": [
        "import numpy as np\n",
        "import tensorflow as tf\n",
        "from tensorflow.keras import layers, models\n",
        "from tensorflow.keras.datasets import mnist\n",
        "# Load the MNIST dataset\n",
        "(x_train, y_train), (x_test, y_test) = mnist.load_data()\n",
        "# Normalize the images to values between 0 and 1\n",
        "x_train, x_test = x_train / 255.0, x_test / 255.0\n",
        "# Flatten the 28x28 images into 784-dimensional vectors\n",
        "x_train = x_train.reshape(-1, 28 * 28)\n",
        "x_test = x_test.reshape(-1, 28 * 28)\n",
        "# One-hot encode the labels (0-9) for classification\n",
        "y_train = tf.keras.utils.to_categorical(y_train, 10)\n",
        "y_test = tf.keras.utils.to_categorical(y_test, 10)"
      ],
      "metadata": {
        "id": "b2pF2KN3Vh7A"
      },
      "execution_count": null,
      "outputs": []
    },
    {
      "cell_type": "markdown",
      "source": [
        "Example using Sequential API."
      ],
      "metadata": {
        "id": "8ff-QFPuVklo"
      }
    },
    {
      "cell_type": "code",
      "source": [
        "# Model parameters\n",
        "import tensorflow as tf\n",
        "from tensorflow import keras\n",
        "num_classes = 10\n",
        "input_shape = (28, 28, 1)\n",
        "model = keras.Sequential(\n",
        "[\n",
        "keras.layers.Input(shape=input_shape),\n",
        "keras.layers.Flatten(), # Flatten the 28x28 image to a 784-dimensional vector\n",
        "keras.layers.Dense(64, activation=\"sigmoid\"),\n",
        "keras.layers.Dense(128, activation=\"sigmoid\"),\n",
        "keras.layers.Dense(256, activation=\"sigmoid\"),\n",
        "keras.layers.Dense(num_classes, activation=\"softmax\"),\n",
        "]\n",
        ")"
      ],
      "metadata": {
        "id": "DxbXiZCCVlOv"
      },
      "execution_count": null,
      "outputs": []
    },
    {
      "cell_type": "markdown",
      "source": [
        "Syntax Model Summary"
      ],
      "metadata": {
        "id": "l1dzH8wPVo_B"
      }
    },
    {
      "cell_type": "code",
      "source": [
        "model.summary()"
      ],
      "metadata": {
        "id": "KX1WzVGcVq9a"
      },
      "execution_count": null,
      "outputs": []
    },
    {
      "cell_type": "markdown",
      "source": [
        "2.Functional API:"
      ],
      "metadata": {
        "id": "CvlOphIRV0Uc"
      }
    },
    {
      "cell_type": "markdown",
      "source": [
        "Example using Functional API."
      ],
      "metadata": {
        "id": "auZBsJhhVtkH"
      }
    },
    {
      "cell_type": "code",
      "source": [
        "# Model parameters\n",
        "import tensorflow as tf\n",
        "from tensorflow import keras\n",
        "num_classes = 10\n",
        "input_shape = (28, 28, 1)\n",
        "def build_functional_model():\n",
        "# Input layer\n",
        "inputs = keras.Input(shape=input_shape)\n",
        "# Flatten layer\n",
        "x = keras.layers.Flatten()(inputs)\n",
        "# Hidden layers\n",
        "x = keras.layers.Dense(64, activation=\"sigmoid\")(x)\n",
        "x = keras.layers.Dense(128, activation=\"sigmoid\")(x)\n",
        "x = keras.layers.Dense(256, activation=\"sigmoid\")(x)\n",
        "# Output layer\n",
        "outputs = keras.layers.Dense(num_classes, activation=\"softmax\")(x)\n",
        "# Create model\n",
        "model = keras.Model(inputs=inputs, outputs=outputs)\n",
        "return model\n",
        "# Build the model\n",
        "functional_model = build_functional_model()\n",
        "functional_model.summary()"
      ],
      "metadata": {
        "id": "f9duazU5VuLW"
      },
      "execution_count": null,
      "outputs": []
    },
    {
      "cell_type": "markdown",
      "source": [
        "3 Compiling and Training the Model:\n",
        "\n"
      ],
      "metadata": {
        "id": "OwBIDCDQV25D"
      }
    },
    {
      "cell_type": "markdown",
      "source": [
        "Syntax of model.compile():"
      ],
      "metadata": {
        "id": "dV9afGWwV9aC"
      }
    },
    {
      "cell_type": "code",
      "source": [
        "model.compile(\n",
        "optimizer=<optimizer>,\n",
        "loss=<loss_function>,\n",
        "metrics=[<metric1>, <metric2>, ...]\n",
        ")"
      ],
      "metadata": {
        "id": "TWQujw0hWAbc"
      },
      "execution_count": null,
      "outputs": []
    },
    {
      "cell_type": "markdown",
      "source": [
        "Example: Compiling the Model"
      ],
      "metadata": {
        "id": "4puDRV8XWDJ7"
      }
    },
    {
      "cell_type": "code",
      "source": [
        "model.compile(\n",
        "optimizer=\"sgd\", # Stochastic Gradient Descent\n",
        "loss=\"categorical_crossentropy\", # Loss function for multi-class classification\n",
        "metrics=[\"accuracy\"] # Track accuracy during training\n",
        ")"
      ],
      "metadata": {
        "id": "_t6AvndqWDu-"
      },
      "execution_count": null,
      "outputs": []
    },
    {
      "cell_type": "markdown",
      "source": [
        "Training of the Model:"
      ],
      "metadata": {
        "id": "z8_GgOdvWHCz"
      }
    },
    {
      "cell_type": "code",
      "source": [
        "model.fit(\n",
        "x=<input_data>,\n",
        "y=<target_labels>,\n",
        "batch_size=<batch_size>,\n",
        "epochs=<epochs>,\n",
        "validation_data=(<x_val>, <y_val>),\n",
        "validation_split=<validation_split>,\n",
        "callbacks=[<callback1>, <callback2>, ...],\n",
        "verbose=<verbose_level>\n",
        ")"
      ],
      "metadata": {
        "id": "K_MV8VQaWI4H"
      },
      "execution_count": null,
      "outputs": []
    },
    {
      "cell_type": "markdown",
      "source": [
        "Example Code for fit()"
      ],
      "metadata": {
        "id": "aInR6W0DWMA3"
      }
    },
    {
      "cell_type": "code",
      "source": [
        "batch_size = 128\n",
        "epochs = 2000\n",
        "# Callbacks\n",
        "callbacks = [\n",
        "keras.callbacks.ModelCheckpoint(filepath=\"model_at_epoch_{epoch}.keras\"),\n",
        "keras.callbacks.EarlyStopping(monitor=\"val_loss\", patience=4 ),\n",
        "]\n",
        "# Train the model with callbacks and validation split\n",
        "history = model.fit(\n",
        "x_train,\n",
        "y_train,\n",
        "batch_size=batch_size,\n",
        "epochs=epochs,\n",
        "validation_split=0.15,\n",
        "callbacks=callbacks,\n",
        ")"
      ],
      "metadata": {
        "id": "yGph7oafWOFA"
      },
      "execution_count": null,
      "outputs": []
    },
    {
      "cell_type": "markdown",
      "source": [
        "1. Parameters and Setup:"
      ],
      "metadata": {
        "id": "Hq2--VZ9WRCF"
      }
    },
    {
      "cell_type": "code",
      "source": [
        "batch_size = 128\n",
        "epochs = 2000"
      ],
      "metadata": {
        "id": "BCmSYJB-WSzO"
      },
      "execution_count": null,
      "outputs": []
    },
    {
      "cell_type": "markdown",
      "source": [
        "Callbacks"
      ],
      "metadata": {
        "id": "Is1mxVx1WVOn"
      }
    },
    {
      "cell_type": "code",
      "source": [
        "callbacks = [\n",
        "keras.callbacks.ModelCheckpoint(filepath=\"model_at_epoch_{epoch}.keras\"),\n",
        "keras.callbacks.EarlyStopping(monitor=\"val_loss\", patience=4),\n",
        "]"
      ],
      "metadata": {
        "id": "SVKxiwMEWV41"
      },
      "execution_count": null,
      "outputs": []
    },
    {
      "cell_type": "markdown",
      "source": [
        "3. Training the Model"
      ],
      "metadata": {
        "id": "BN2U9w1cWZuZ"
      }
    },
    {
      "cell_type": "code",
      "source": [
        "history = model.fit(\n",
        "x_train,\n",
        "y_train,\n",
        "batch_size=batch_size,\n",
        "epochs=epochs,\n",
        "validation_split=0.15,\n",
        "callbacks=callbacks,\n",
        ")"
      ],
      "metadata": {
        "id": "O87R29HlWc7k"
      },
      "execution_count": null,
      "outputs": []
    },
    {
      "cell_type": "markdown",
      "source": [
        "History Object"
      ],
      "metadata": {
        "id": "nFvLREV7WgVu"
      }
    },
    {
      "cell_type": "markdown",
      "source": [
        "Sample Code for visualizing Model’s Training Progress."
      ],
      "metadata": {
        "id": "VA2MnAPPWjMw"
      }
    },
    {
      "cell_type": "code",
      "source": [
        "import matplotlib.pyplot as plt\n",
        "# Assuming ’history’ is the object returned by model.fit()\n",
        "# Extracting training and validation loss\n",
        "train_loss = history.history[’loss’]\n",
        "val_loss = history.history[’val_loss’]\n",
        "# Extracting training and validation accuracy (if metrics were specified)\n",
        "train_acc = history.history[’accuracy’]\n",
        "val_acc = history.history[’val_accuracy’]\n",
        "# Plotting training and validation loss\n",
        "plt.figure(figsize=(12, 6))\n",
        "plt.subplot(1, 2, 1)\n",
        "plt.plot(range(1, len(train_loss) + 1), train_loss, label=’Training Loss’, color=’blue’)\n",
        "plt.plot(range(1, len(val_loss) + 1), val_loss, label=’Validation Loss’, color=’orange’)\n",
        "plt.xlabel(’Epochs’)\n",
        "plt.ylabel(’Loss’)\n",
        "plt.title(’Training and Validation Loss’)\n",
        "plt.legend()\n",
        "# Plotting training and validation accuracy\n",
        "plt.subplot(1, 2, 2)\n",
        "plt.plot(range(1, len(train_acc) + 1), train_acc, label=’Training Accuracy’, color=’blue’)\n",
        "plt.plot(range(1, len(val_acc) + 1), val_acc, label=’Validation Accuracy’, color=’orange’)\n",
        "plt.xlabel(’Epochs’)\n",
        "plt.ylabel(’Accuracy’)\n",
        "plt.title(’Training and Validation Accuracy’)\n",
        "plt.legend()\n",
        "plt.tight_layout()\n",
        "plt.show()"
      ],
      "metadata": {
        "id": "sgM37YMCWl-U"
      },
      "execution_count": null,
      "outputs": []
    },
    {
      "cell_type": "markdown",
      "source": [
        "4. Evaluate the Model:"
      ],
      "metadata": {
        "id": "TAkryPq9WnQN"
      }
    },
    {
      "cell_type": "code",
      "source": [
        "model.evaluate(x=None, y=None, batch_size=None, verbose=1, sample_weight=None, steps=None, callbacks\n",
        "=None, max_queue_size=10, workers=1, use_multiprocessing=False)"
      ],
      "metadata": {
        "id": "PDT_nlrOWq02"
      },
      "execution_count": null,
      "outputs": []
    },
    {
      "cell_type": "markdown",
      "source": [
        "Example code for Evaluation."
      ],
      "metadata": {
        "id": "PW9tDOhUWtuj"
      }
    },
    {
      "cell_type": "code",
      "source": [
        "test_loss, test_acc = model.evaluate(x_test, y_test, verbose=2)\n",
        "print(f\"Test accuracy: {test_acc:.4f}\")"
      ],
      "metadata": {
        "id": "aCiX5fHrWwwH"
      },
      "execution_count": null,
      "outputs": []
    },
    {
      "cell_type": "markdown",
      "source": [
        "5. Making Predictions with Keras:"
      ],
      "metadata": {
        "id": "RwFhcS-FWzUL"
      }
    },
    {
      "cell_type": "code",
      "source": [
        "model.predict(\n",
        "x,\n",
        "batch_size=None,\n",
        "verbose=0,\n",
        "steps=None,\n",
        "callbacks=None,\n",
        "max_queue_size=10,\n",
        "workers=1,\n",
        "use_multiprocessing=False\n",
        ")"
      ],
      "metadata": {
        "id": "UVqvZrC5W0BM"
      },
      "execution_count": null,
      "outputs": []
    },
    {
      "cell_type": "markdown",
      "source": [
        "Example code for model.predict()"
      ],
      "metadata": {
        "id": "7m4IetiqW4NV"
      }
    },
    {
      "cell_type": "code",
      "source": [
        "# Predict on test data\n",
        "predictions = model.predict(x_test)\n",
        "# Convert predictions from probabilities to digit labels\n",
        "predicted_labels = np.argmax(predictions, axis=1)\n",
        "# Check the first prediction\n",
        "print(f\"Predicted label for first image: {predicted_labels[0]}\")\n",
        "print(f\"True label for first image: {np.argmax(y_test[0])}\")"
      ],
      "metadata": {
        "id": "_pHp0XOjW6LG"
      },
      "execution_count": null,
      "outputs": []
    },
    {
      "cell_type": "markdown",
      "source": [
        "6. Saving and Loading the Model:\n",
        "\n",
        "1. Saving the Model:"
      ],
      "metadata": {
        "id": "fJO_SbF0W9NF"
      }
    },
    {
      "cell_type": "code",
      "source": [
        "model.save(’mnist_fully_connected_model.h5’)"
      ],
      "metadata": {
        "id": "edFSYdvDXBKQ"
      },
      "execution_count": null,
      "outputs": []
    },
    {
      "cell_type": "markdown",
      "source": [
        "Loading the Model:"
      ],
      "metadata": {
        "id": "VeflOBvBXED-"
      }
    },
    {
      "cell_type": "code",
      "source": [
        "loaded_model = tf.keras.models.load_model(’mnist_fully_connected_model.h5’)"
      ],
      "metadata": {
        "id": "ZknrrNMfXGAJ"
      },
      "execution_count": null,
      "outputs": []
    },
    {
      "cell_type": "markdown",
      "source": [
        "5 Conclusion:"
      ],
      "metadata": {
        "id": "Kw6GE3w1XIn8"
      }
    },
    {
      "cell_type": "markdown",
      "source": [
        "6 Exercise: Building a Fully Connected Network (FCN) for\n",
        "Devnagari Digit Classification."
      ],
      "metadata": {
        "id": "gjq9zPwqXN8z"
      }
    },
    {
      "cell_type": "markdown",
      "source": [
        "Task 1: Data Preparation"
      ],
      "metadata": {
        "id": "QOGrAO4OXR71"
      }
    },
    {
      "cell_type": "code",
      "source": [
        "import os\n",
        "import numpy as np\n",
        "import tensorflow as tf\n",
        "from tensorflow import keras\n",
        "from tensorflow.keras.models import Sequential\n",
        "from tensorflow.keras.layers import Dense, Flatten\n",
        "from tensorflow.keras.optimizers import Adam\n",
        "from tensorflow.keras.callbacks import ModelCheckpoint, EarlyStopping\n",
        "from PIL import Image\n",
        "from sklearn.model_selection import train_test_split\n",
        "from sklearn.preprocessing import OneHotEncoder\n",
        "import matplotlib.pyplot as plt\n",
        "\n",
        "\n",
        "def load_images_and_labels(root_dir):\n",
        "    images, labels = [], []\n",
        "    label_map = {label: idx for idx, label in enumerate(os.listdir(root_dir))}\n",
        "\n",
        "    for label in os.listdir(root_dir):\n",
        "        label_dir = os.path.join(root_dir, label)\n",
        "        if os.path.isdir(label_dir):\n",
        "            for image_file in os.listdir(label_dir):\n",
        "                img_path = os.path.join(label_dir, image_file)\n",
        "                img = Image.open(img_path).convert('L').resize((28, 28))\n",
        "                images.append(np.array(img) / 255.0)  # Normalize pixels to range [0,1]\n",
        "                labels.append(label_map[label])\n",
        "\n",
        "    return np.array(images), np.array(labels)"
      ],
      "metadata": {
        "id": "2vFe0OrQXpPv"
      },
      "execution_count": null,
      "outputs": []
    },
    {
      "cell_type": "code",
      "source": [
        "# Load training and testing data\n",
        "train_images, train_labels = load_images_and_labels(\"Copy of devnagari digit/DevanagariHandwrittenDigitDataset/Train\")\n",
        "test_images, test_labels = load_images_and_labels(\"Copy of devnagari digit/DevanagariHandwrittenDigitDataset/Test\")\n",
        "\n",
        "# Reshape images to fit neural network input format\n",
        "train_images = train_images.reshape(-1, 28 * 28)\n",
        "test_images = test_images.reshape(-1, 28 * 28)\n",
        "\n",
        "# Convert labels to one-hot encoding\n",
        "encoder = OneHotEncoder(sparse_output=False)\n",
        "train_labels = encoder.fit_transform(train_labels.reshape(-1, 1))\n",
        "test_labels = encoder.transform(test_labels.reshape(-1, 1))"
      ],
      "metadata": {
        "id": "jy05_fyhYCxI"
      },
      "execution_count": null,
      "outputs": []
    },
    {
      "cell_type": "markdown",
      "source": [
        "Task 2: Build the FCN Model"
      ],
      "metadata": {
        "id": "QSoNCIjkXzKI"
      }
    },
    {
      "cell_type": "code",
      "source": [
        "model = Sequential([\n",
        "    keras.layers.Input(shape=(28 * 28,)),  # Define input layer separately\n",
        "    Dense(64, activation='sigmoid'),\n",
        "    Dense(128, activation='sigmoid'),\n",
        "    Dense(256, activation='sigmoid'),\n",
        "    Dense(10, activation='softmax')\n",
        "])"
      ],
      "metadata": {
        "id": "YvYLS2vWX1rz"
      },
      "execution_count": null,
      "outputs": []
    },
    {
      "cell_type": "markdown",
      "source": [
        "Task 3: Compile the Model"
      ],
      "metadata": {
        "id": "XTwjJqLuYFYm"
      }
    },
    {
      "cell_type": "code",
      "source": [
        "\n",
        "model.compile(optimizer=Adam(), loss='categorical_crossentropy', metrics=['accuracy'])"
      ],
      "metadata": {
        "id": "hQWAegWDYKA4"
      },
      "execution_count": null,
      "outputs": []
    },
    {
      "cell_type": "markdown",
      "source": [
        "Task 4: Train the Model"
      ],
      "metadata": {
        "id": "fiQf8qcrYMEq"
      }
    },
    {
      "cell_type": "code",
      "source": [
        "\n",
        "checkpoint = ModelCheckpoint(\"best_model.h5\", save_best_only=True, monitor='val_loss', mode='min')\n",
        "early_stop = EarlyStopping(monitor='val_loss', patience=5, restore_best_weights=True)\n",
        "\n",
        "history = model.fit(train_images, train_labels, batch_size=128, epochs=20, validation_split=0.2, callbacks=[checkpoint, early_stop])"
      ],
      "metadata": {
        "id": "5BjG-bSxYLzp"
      },
      "execution_count": null,
      "outputs": []
    },
    {
      "cell_type": "markdown",
      "source": [
        "Task 5: Evaluate the Model"
      ],
      "metadata": {
        "id": "a5UZM8mmYSu9"
      }
    },
    {
      "cell_type": "code",
      "source": [
        "test_loss, test_acc = model.evaluate(test_images, test_labels)\n",
        "print(f\"Test Accuracy: {test_acc:.4f}\")"
      ],
      "metadata": {
        "id": "KLu0YhmRYTik"
      },
      "execution_count": null,
      "outputs": []
    },
    {
      "cell_type": "markdown",
      "source": [
        "Task 6: Save and Load the Model"
      ],
      "metadata": {
        "id": "Fc4aJy1aYZub"
      }
    },
    {
      "cell_type": "code",
      "source": [
        "model.save(\"devnagari_digit_model.h5\")\n",
        "loaded_model = keras.models.load_model(\"devnagari_digit_model.h5\")"
      ],
      "metadata": {
        "id": "_wZ51W09YcWQ"
      },
      "execution_count": null,
      "outputs": []
    },
    {
      "cell_type": "markdown",
      "source": [
        "Task 7: Predictions"
      ],
      "metadata": {
        "id": "9Q3xSrCEYePs"
      }
    },
    {
      "cell_type": "code",
      "source": [
        "predictions = loaded_model.predict(test_images)\n",
        "predicted_labels = np.argmax(predictions, axis=1)"
      ],
      "metadata": {
        "id": "ZbfOVeyiY3hR"
      },
      "execution_count": null,
      "outputs": []
    },
    {
      "cell_type": "markdown",
      "source": [
        " Plot training history"
      ],
      "metadata": {
        "id": "JNF4Y6KoYtx7"
      }
    },
    {
      "cell_type": "code",
      "source": [
        "\n",
        "plt.figure(figsize=(12, 5))\n",
        "plt.subplot(1, 2, 1)\n",
        "plt.plot(history.history['accuracy'], label='Train Accuracy')\n",
        "plt.plot(history.history['val_accuracy'], label='Validation Accuracy')\n",
        "plt.xlabel('Epochs')\n",
        "plt.ylabel('Accuracy')\n",
        "plt.legend()\n",
        "plt.subplot(1, 2, 2)\n",
        "plt.plot(history.history['loss'], label='Train Loss')\n",
        "plt.plot(history.history['val_loss'], label='Validation Loss')\n",
        "plt.xlabel('Epochs')\n",
        "plt.ylabel('Loss')\n",
        "plt.legend()\n",
        "plt.show()"
      ],
      "metadata": {
        "id": "K5hNH_6XYxQ8"
      },
      "execution_count": null,
      "outputs": []
    }
  ]
}