{
  "nbformat": 4,
  "nbformat_minor": 0,
  "metadata": {
    "colab": {
      "provenance": []
    },
    "kernelspec": {
      "name": "python3",
      "display_name": "Python 3"
    },
    "language_info": {
      "name": "python"
    }
  },
  "cells": [
    {
      "cell_type": "markdown",
      "source": [
        "Implementation of MCP Neuron for AND and OR Function."
      ],
      "metadata": {
        "id": "WdHS0O0OOzXm"
      }
    },
    {
      "cell_type": "code",
      "execution_count": 4,
      "metadata": {
        "id": "4VwbKW66Oxqi"
      },
      "outputs": [],
      "source": [
        "def MCP_Neurons_AND(X1, X2, T):\n",
        "    \"\"\"\n",
        "    This function implements a basic AND operation using an MCP Neuron for two inputs.\n",
        "\n",
        "    Parameters:\n",
        "    X1 (1D array-like): An array of binary values (0 or 1).\n",
        "    X2 (1D array-like): An array of binary values (0 or 1).\n",
        "    T (int): Threshold value.\n",
        "\n",
        "    Returns:\n",
        "    list: Neuron state (1 or 0) for each input pair.\n",
        "    \"\"\"\n",
        "    assert len(X1) == len(X2), \"Input arrays must have the same length.\"\n",
        "\n",
        "    # Compute element-wise sum of the inputs\n",
        "    summed_inputs = [x1 + x2 for x1, x2 in zip(X1, X2)]\n",
        "\n",
        "    # Apply thresholding function\n",
        "    state_neuron = [1 if s >= T else 0 for s in summed_inputs]\n",
        "\n",
        "    return state_neuron\n"
      ]
    },
    {
      "cell_type": "markdown",
      "source": [
        "Sample Usage for ”AND” Function."
      ],
      "metadata": {
        "id": "Bk6reXYGQTjP"
      }
    },
    {
      "cell_type": "code",
      "source": [
        "\n",
        "# Example usage for MCP_Neurons_AND function\n",
        "X1 = [0, 0, 1, 1]\n",
        "X2 = [0, 1, 0, 1]\n",
        "T = 2  # Threshold value\n",
        "\n",
        "# Call the MCP_Neurons_AND function\n",
        "result = MCP_Neurons_AND(X1, X2, T)\n",
        "\n",
        "# Print the result\n",
        "print(f\"Output of AND gate for inputs {X1} and {X2} with threshold {T}: {result}\")"
      ],
      "metadata": {
        "colab": {
          "base_uri": "https://localhost:8080/"
        },
        "id": "ku1C51_bO20P",
        "outputId": "9205e857-35fd-454b-d939-2d51d2c47229"
      },
      "execution_count": 5,
      "outputs": [
        {
          "output_type": "stream",
          "name": "stdout",
          "text": [
            "Output of AND gate for inputs [0, 0, 1, 1] and [0, 1, 0, 1] with threshold 2: [0, 0, 0, 1]\n"
          ]
        }
      ]
    },
    {
      "cell_type": "markdown",
      "source": [
        "For ”OR” Operations."
      ],
      "metadata": {
        "id": "V3ffGi-iQVxW"
      }
    },
    {
      "cell_type": "code",
      "source": [
        "def MCP_Neurons_OR(X1, X2, T):\n",
        "    \"\"\"\n",
        "    This function implements a basic OR operation using an MCP Neuron for two inputs.\n",
        "\n",
        "    Parameters:\n",
        "    X1 (1D array-like): An array of binary values (0 or 1).\n",
        "    X2 (1D array-like): An array of binary values (0 or 1).\n",
        "    T (int): Threshold value.\n",
        "\n",
        "    Returns:\n",
        "    list: Neuron state (1 or 0) for each input pair.\n",
        "    \"\"\"\n",
        "    assert len(X1) == len(X2), \"Input arrays must have the same length.\"\n",
        "\n",
        "    # Compute element-wise sum of the inputs\n",
        "    summed_inputs = [x1 + x2 for x1, x2 in zip(X1, X2)]\n",
        "\n",
        "    # Apply thresholding function\n",
        "    state_neuron = [1 if s >= T else 0 for s in summed_inputs]\n",
        "\n",
        "    return state_neuron"
      ],
      "metadata": {
        "id": "lWCcTBg9O7SS"
      },
      "execution_count": 6,
      "outputs": []
    },
    {
      "cell_type": "markdown",
      "source": [
        "Sample Usage for ”OR” Function."
      ],
      "metadata": {
        "id": "OJiCfcPBQan2"
      }
    },
    {
      "cell_type": "code",
      "source": [
        "# Example usage for MCP_Neurons_OR function\n",
        "X1 = [0, 0, 1, 1]\n",
        "X2 = [0, 1, 0, 1]\n",
        "T = 1  # Threshold value for OR gate\n",
        "\n",
        "# Call the MCP_Neurons_OR function\n",
        "result_or = MCP_Neurons_OR(X1, X2, T)\n",
        "\n",
        "# Print the result\n",
        "print(f\"Output of OR gate for inputs {X1} and {X2} with threshold {T}: {result_or}\")"
      ],
      "metadata": {
        "colab": {
          "base_uri": "https://localhost:8080/"
        },
        "id": "oISZpyLOO-BN",
        "outputId": "186761f8-b3b2-45eb-a622-fe61e994a44f"
      },
      "execution_count": 7,
      "outputs": [
        {
          "output_type": "stream",
          "name": "stdout",
          "text": [
            "Output of OR gate for inputs [0, 0, 1, 1] and [0, 1, 0, 1] with threshold 1: [0, 1, 1, 1]\n"
          ]
        }
      ]
    },
    {
      "cell_type": "markdown",
      "source": [
        "Question - 1: List out all the limitations of MCP - Neurons.\n",
        "\n",
        "answer:\n",
        "\n",
        "1. Lack of Learning Ability – MCP neurons have fixed weights and thresholds, meaning they cannot learn from data or adjust parameters based on experience.\n",
        "\n",
        "2. Limited to Binary Outputs – The activation function in MCP neurons produces only binary outputs (0 or 1), making them unsuitable for problems requiring continuous or multi-class outputs.\n",
        "\n",
        "3. Inability to Handle Non-Linearly Separable Problems – MCP neurons can only solve linearly separable problems, such as AND and OR, but fail with non-linearly separable ones like XOR.\n",
        "\n",
        "4. No Concept of Weights in the Original Model – The initial MCP neuron model does not include the concept of adjustable weights, which limits its flexibility in decision-making.\n",
        "\n",
        "5. No Support for Multi-Layer Networks – MCP neurons function as single-layer perceptrons and cannot form deep networks, which are necessary for solving complex problems.\n",
        "\n",
        "6. Sensitive to Input Representation – The performance of MCP neurons heavily depends on the binary representation of inputs, making them impractical for real-world problems involving continuous data.\n",
        "\n",
        "7. 8. Lack of Generalization – Since MCP neurons work on strict threshold logic, they cannot generalize well to noisy or varied data inputs.\n",
        "\n",
        "9. No Support for Probabilistic Decision Making – MCP neurons make rigid, deterministic decisions without accommodating probabilities or uncertainties."
      ],
      "metadata": {
        "id": "Of85-k40Qc-Y"
      }
    },
    {
      "cell_type": "markdown",
      "source": [
        "Question - 2: Think if you can develop a logic to solve for XOR function using MCP Neuron.\n",
        "\n",
        "single MCP neuron cannot solve XOR but we can combine multiple MCP neurons in a 2-layer network to achieve XOR functionality\n"
      ],
      "metadata": {
        "id": "-h2G6NUSRO45"
      }
    },
    {
      "cell_type": "code",
      "source": [
        "from google.colab import drive\n",
        "drive.mount('/content/drive')"
      ],
      "metadata": {
        "colab": {
          "base_uri": "https://localhost:8080/"
        },
        "id": "62-tM7VwO96x",
        "outputId": "186c575a-f3fd-4e44-df94-f6c24b50f32d"
      },
      "execution_count": 8,
      "outputs": [
        {
          "output_type": "stream",
          "name": "stdout",
          "text": [
            "Drive already mounted at /content/drive; to attempt to forcibly remount, call drive.mount(\"/content/drive\", force_remount=True).\n"
          ]
        }
      ]
    },
    {
      "cell_type": "markdown",
      "source": [
        "Implementation for 0 Vs. 1 Classification.\n",
        "\n",
        "Step 1: Load the Dataset"
      ],
      "metadata": {
        "id": "eFm_-Q8PPKzD"
      }
    },
    {
      "cell_type": "code",
      "source": [
        "import pandas as pd\n",
        "import numpy as np\n",
        "import matplotlib.pyplot as plt\n",
        "\n",
        "\n",
        "# Load the dataset\n",
        "df_0_1 = pd.read_csv(\"/content/drive/MyDrive/mnist_0_and_1.csv\")  # Add the correct file path if necessary\n",
        "\n",
        "# Extract features and labels\n",
        "X = df_0_1.drop(columns=[\"label\"]).values  # 784 pixels\n",
        "y = df_0_1[\"label\"].values  # Labels (0 or 1)\n",
        "\n",
        "# Check the shape of the features and labels\n",
        "print(\"Feature matrix shape:\", X.shape)\n",
        "print(\"Label vector shape:\", y.shape)"
      ],
      "metadata": {
        "colab": {
          "base_uri": "https://localhost:8080/"
        },
        "id": "drwzznV0PQib",
        "outputId": "e1b25d1f-8606-425e-ff11-52a18e6e7279"
      },
      "execution_count": 9,
      "outputs": [
        {
          "output_type": "stream",
          "name": "stdout",
          "text": [
            "Feature matrix shape: (12665, 784)\n",
            "Label vector shape: (12665,)\n"
          ]
        }
      ]
    },
    {
      "cell_type": "markdown",
      "source": [
        "Question - 1: What does the shape of X represent?\n",
        "\n",
        "The shape of\n",
        "𝑋\n",
        "X is (12665, 784), which represents the feature matrix for the MNIST dataset."
      ],
      "metadata": {
        "id": "W_pPjXE5Ru95"
      }
    },
    {
      "cell_type": "markdown",
      "source": [
        "Question - 2: What does the shape of X represent?\n"
      ],
      "metadata": {
        "id": "kfslnKcYR0T9"
      }
    },
    {
      "cell_type": "markdown",
      "source": [
        "Viewing the Dataset."
      ],
      "metadata": {
        "id": "jkXHfzRkPcl7"
      }
    },
    {
      "cell_type": "code",
      "source": [
        "# Separate images for label 0 and label 1\n",
        "images_0 = X[y == 0]  # Get all images with label 0\n",
        "images_1 = X[y == 1]  # Get all images with label 1\n",
        "\n",
        "fig, axes = plt.subplots(2, 5, figsize=(10, 5))\n",
        "\n",
        "# Check if the arrays have the required amount of data\n",
        "if len(images_0) < 5 or len(images_1) < 5:\n",
        "    print(\"Error: Not enough images in images_0 or images_1 to plot 5 images.\")\n",
        "else:\n",
        "    for i in range(5):\n",
        "        # Plot digit 0\n",
        "        axes[0, i].imshow(images_0[i].reshape(28, 28), cmap=\"gray\")\n",
        "        axes[0, i].set_title(\"Label: 0\")\n",
        "        axes[0, i].axis(\"off\")\n",
        "        # Plot digit 1\n",
        "        axes[1, i].imshow(images_1[i].reshape(28, 28), cmap=\"gray\")\n",
        "        axes[1, i].set_title(\"Label: 1\")\n",
        "        axes[1, i].axis(\"off\")\n",
        "    plt.suptitle(\"First 5 Images of 0 and 1 from MNIST Subset\")\n",
        "    plt.show()"
      ],
      "metadata": {
        "colab": {
          "base_uri": "https://localhost:8080/",
          "height": 451
        },
        "id": "2tNpGeHHPfNf",
        "outputId": "aacedd80-f5f8-4851-b8b8-bdf528d66723"
      },
      "execution_count": 10,
      "outputs": [
        {
          "output_type": "display_data",
          "data": {
            "text/plain": [
              "<Figure size 1000x500 with 10 Axes>"
            ],
            "image/png": "[encoded data removed]"
          },
          "metadata": {}
        }
      ]
    },
    {
      "cell_type": "markdown",
      "source": [],
      "metadata": {
        "id": "8PCROY3kTDEZ"
      }
    },
    {
      "cell_type": "markdown",
      "source": [
        "Step - 2 - Initializing the Weights:"
      ],
      "metadata": {
        "id": "lTf-Y7YJPiRq"
      }
    },
    {
      "cell_type": "code",
      "source": [
        "# Initialize weights and bias\n",
        "weights = np.zeros(X.shape[1])  # 784 weights (one for each pixel)\n",
        "bias = 0\n",
        "learning_rate = 0.1\n",
        "epochs = 100"
      ],
      "metadata": {
        "id": "8SnHYinXPj8F"
      },
      "execution_count": 13,
      "outputs": []
    },
    {
      "cell_type": "markdown",
      "source": [
        "Question - 3: What does the weights array represent in this context?\n",
        "\n",
        "he weights array  refers to the parameters (coefficients) of a model that learns to classify digits\n",
        "\n",
        "Question - 4: Why are we initializing the weights to zero? What effect could thi shave on the training process?\n"
      ],
      "metadata": {
        "id": "siVgGbUWTJ2a"
      }
    },
    {
      "cell_type": "markdown",
      "source": [
        "Step - 3 - Make a Decision function:"
      ],
      "metadata": {
        "id": "uKnZAzRsPm8a"
      }
    },
    {
      "cell_type": "code",
      "source": [
        "import numpy as np\n",
        "\n",
        "def decision_function(X, weights, bias):\n",
        "    \"\"\"\n",
        "    Compute the predicted labels for the input data.\n",
        "\n",
        "    Parameters:\n",
        "    - X: Features (input data) as a numpy array of shape (n_samples, n_features)\n",
        "    - weights: Updated weights after training\n",
        "    - bias: Updated bias after training\n",
        "\n",
        "    Returns:\n",
        "    - y_pred_all: The predicted labels for the input data (0 or 1)\n",
        "    \"\"\"\n",
        "    # Compute linear combination of inputs and weights\n",
        "    predictions = np.dot(X, weights) + bias\n",
        "\n",
        "    # Apply step function (threshold at 0)\n",
        "    y_pred_all = np.where(predictions >= 0, 1, 0)\n",
        "\n",
        "    return y_pred_all\n"
      ],
      "metadata": {
        "id": "vU8TRpbIPmOp"
      },
      "execution_count": 14,
      "outputs": []
    },
    {
      "cell_type": "markdown",
      "source": [
        "Step - 4 - Implement the Perceptron Learning Algorithm"
      ],
      "metadata": {
        "id": "-ILJgA_qPrh1"
      }
    },
    {
      "cell_type": "code",
      "source": [
        "def train_perceptron(X, y, weights, bias, learning_rate=0.1, epochs=100):\n",
        "    \"\"\"\n",
        "    Train the perceptron using the Perceptron Learning Algorithm.\n",
        "\n",
        "    Parameters:\n",
        "    - X: Features (input data) as a numpy array of shape (n_samples, n_features)\n",
        "    - y: Labels (true output) as a numpy array of shape (n_samples,)\n",
        "    - weights: Initial weights as a numpy array of shape (n_features,)\n",
        "    - bias: Initial bias value (scalar)\n",
        "    - learning_rate: Learning rate for weight updates (default is 0.1)\n",
        "    - epochs: Number of iterations to train the model (default is 100)\n",
        "\n",
        "    Returns:\n",
        "    - weights: Updated weights after training\n",
        "    - bias: Updated bias after training\n",
        "    - accuracy: Total correct predictions at the last epoch.\n",
        "    \"\"\"\n",
        "    n_samples = X.shape[0]\n",
        "\n",
        "    for _ in range(epochs):\n",
        "        correct_predictions = 0\n",
        "        for i in range(n_samples):\n",
        "            # Compute prediction using step function\n",
        "            linear_output = np.dot(X[i], weights) + bias\n",
        "            y_pred = 1 if linear_output >= 0 else 0\n",
        "\n",
        "            # Update weights and bias if prediction is incorrect\n",
        "            if y_pred != y[i]:\n",
        "                weights += learning_rate * (y[i] - y_pred) * X[i]\n",
        "                bias += learning_rate * (y[i] - y_pred)\n",
        "            else:\n",
        "                correct_predictions += 1\n",
        "\n",
        "    # Compute accuracy at the last epoch\n",
        "    accuracy = correct_predictions / n_samples\n",
        "\n",
        "    return weights, bias, accuracy"
      ],
      "metadata": {
        "id": "lDItJ9aqPzyN"
      },
      "execution_count": 15,
      "outputs": []
    },
    {
      "cell_type": "markdown",
      "source": [
        "Training the Perceptron"
      ],
      "metadata": {
        "id": "IVbiVkYGP1yk"
      }
    },
    {
      "cell_type": "code",
      "source": [
        "\n",
        "# After training the model with the perceptron_learning_algorithm\n",
        "weights, bias, accuracy = train_perceptron(X, y, weights, bias)\n",
        "\n",
        "# Evaluate the model using the new function\n",
        "print(\"The Final Accuracy is: \", accuracy)"
      ],
      "metadata": {
        "colab": {
          "base_uri": "https://localhost:8080/"
        },
        "id": "Cf72EK6qP3mT",
        "outputId": "9078e84d-187c-49a8-fb0d-ccb14183a49c"
      },
      "execution_count": 16,
      "outputs": [
        {
          "output_type": "stream",
          "name": "stdout",
          "text": [
            "The Final Accuracy is:  1.0\n"
          ]
        }
      ]
    },
    {
      "cell_type": "markdown",
      "source": [
        "Question - 5: What is the purpose of the output = np.dot(X[i], weights) + bias line?\n",
        "\n",
        "to calculate the output of the model for the\n",
        "𝑖\n",
        "i-th input data point\n",
        "Question - 6: What happens when the prediction is wrong? How are the weights and\n",
        "bias updated?\n",
        "\n",
        "Question - 7:Why is the final accuracy important, and what do you expect it to be?\n"
      ],
      "metadata": {
        "id": "1EXwG68oTWpR"
      }
    },
    {
      "cell_type": "markdown",
      "source": [
        "Step 5: Visualize Misclassified Images"
      ],
      "metadata": {
        "id": "3060IiudP4qY"
      }
    },
    {
      "cell_type": "code",
      "source": [
        "# Get predictions for all data points\n",
        "predictions = np.dot(X, weights) + bias\n",
        "y_pred = np.where(predictions >= 0, 1, 0)\n",
        "\n",
        "# Calculate final accuracy\n",
        "final_accuracy = np.mean(y_pred == y)\n",
        "print(f\"Final Accuracy: {final_accuracy:.4f}\")\n",
        "\n",
        "# Step 5: Visualize Misclassified Images\n",
        "misclassified_idx = np.where(y_pred != y)[0]\n",
        "if len(misclassified_idx) > 0:\n",
        "    fig, axes = plt.subplots(2, 5, figsize=(10, 5))\n",
        "    for ax, idx in zip(axes.flat, misclassified_idx[:10]):  # Show 10 misclassified images\n",
        "        ax.imshow(X[idx].reshape(28, 28), cmap=\"gray\")\n",
        "        ax.set_title(f\"Pred: {y_pred[idx]}, True: {y[idx]}\")\n",
        "        ax.axis(\"off\")\n",
        "    plt.suptitle(\"Misclassified Images\")\n",
        "    plt.show()\n",
        "else:\n",
        "    print(\"All images were correctly classified!\")"
      ],
      "metadata": {
        "colab": {
          "base_uri": "https://localhost:8080/"
        },
        "id": "x7RFWKjdP6o7",
        "outputId": "d1acc041-2f11-403b-99ae-cac6bbbea6d6"
      },
      "execution_count": 17,
      "outputs": [
        {
          "output_type": "stream",
          "name": "stdout",
          "text": [
            "Final Accuracy: 1.0000\n",
            "All images were correctly classified!\n"
          ]
        }
      ]
    },
    {
      "cell_type": "markdown",
      "source": [
        "Question - 8:What does misclassified idx store, and how is it used in this code?\n",
        "\n",
        "9: How do you interpret the result if the output is ”All images were\n",
        "correctly classified!”?"
      ],
      "metadata": {
        "id": "iIliuPeQTfb1"
      }
    },
    {
      "cell_type": "markdown",
      "source": [
        "Task 3: Perceptron Algorithm for 3 vs 5 Classification."
      ],
      "metadata": {
        "id": "rp4ej4QqSAWv"
      }
    },
    {
      "cell_type": "markdown",
      "source": [
        "Step 1: Load the Dataset"
      ],
      "metadata": {
        "id": "usbEdoqsSQkW"
      }
    },
    {
      "cell_type": "code",
      "source": [
        "import pandas as pd\n",
        "import numpy as np\n",
        "import matplotlib.pyplot as plt\n",
        "\n",
        "\n",
        "# Load the dataset\n",
        "df_0_1 = pd.read_csv(\"/content/drive/MyDrive/mnist_3_and_5.csv\")  # Add the correct file path if necessary\n",
        "\n",
        "# Extract features and labels\n",
        "X = df_0_1.drop(columns=[\"label\"]).values  # 784 pixels\n",
        "y = df_0_1[\"label\"].values  # Labels (0 or 1)\n",
        "\n",
        "# Check the shape of the features and labels\n",
        "print(\"Feature matrix shape:\", X.shape)\n",
        "print(\"Label vector shape:\", y.shape)"
      ],
      "metadata": {
        "colab": {
          "base_uri": "https://localhost:8080/"
        },
        "id": "0cdQal20SB3T",
        "outputId": "adddb0c6-215a-4b4c-e7d8-882cd47d7538"
      },
      "execution_count": 19,
      "outputs": [
        {
          "output_type": "stream",
          "name": "stdout",
          "text": [
            "Feature matrix shape: (2741, 784)\n",
            "Label vector shape: (2741,)\n"
          ]
        }
      ]
    },
    {
      "cell_type": "markdown",
      "source": [
        "Viewing the Dataset."
      ],
      "metadata": {
        "id": "nwF1ekKOP9fk"
      }
    },
    {
      "cell_type": "code",
      "source": [
        "# Separate images for label 0 and label 1\n",
        "images_0 = X[y == 3]  # Get all images with label 0\n",
        "images_1 = X[y == 5]  # Get all images with label 5\n",
        "\n",
        "fig, axes = plt.subplots(2, 5, figsize=(10, 5))\n",
        "\n",
        "# Check if the arrays have the required amount of data\n",
        "if len(images_0) < 5 or len(images_1) < 5:\n",
        "    print(\"Error: Not enough images in images_0 or images_1 to plot 5 images.\")\n",
        "else:\n",
        "    for i in range(5):\n",
        "        # Plot digit 0\n",
        "        axes[0, i].imshow(images_0[i].reshape(28, 28), cmap=\"gray\")\n",
        "        axes[0, i].set_title(\"Label: 0\")\n",
        "        axes[0, i].axis(\"off\")\n",
        "        # Plot digit 1\n",
        "        axes[1, i].imshow(images_1[i].reshape(28, 28), cmap=\"gray\")\n",
        "        axes[1, i].set_title(\"Label: 1\")\n",
        "        axes[1, i].axis(\"off\")\n",
        "    plt.suptitle(\"First 5 Images of 0 and 1 from MNIST Subset\")\n",
        "    plt.show()\n",
        ""
      ],
      "metadata": {
        "colab": {
          "base_uri": "https://localhost:8080/",
          "height": 451
        },
        "id": "MC9o9TFvSYUU",
        "outputId": "32da5617-da58-478d-93b7-1b2da813c5a8"
      },
      "execution_count": 28,
      "outputs": [
        {
          "output_type": "display_data",
          "data": {
            "text/plain": [
              "<Figure size 1000x500 with 10 Axes>"
            ],
            "image/png": "[encoded data removed]"
          },
          "metadata": {}
        }
      ]
    },
    {
      "cell_type": "markdown",
      "source": [
        " Initializing the Weights:"
      ],
      "metadata": {
        "id": "AcpLg15tScPz"
      }
    },
    {
      "cell_type": "code",
      "source": [
        "# Initialize weights and bias\n",
        "weights = np.zeros(X.shape[1])  # 784 weights (one for each pixel)\n",
        "bias = 0\n",
        "learning_rate = 0.1\n",
        "epochs = 100"
      ],
      "metadata": {
        "id": "rNeMmZdxSdnX"
      },
      "execution_count": 29,
      "outputs": []
    },
    {
      "cell_type": "markdown",
      "source": [
        " Make a Decision function:"
      ],
      "metadata": {
        "id": "Xs3Lw7a4Sh0-"
      }
    },
    {
      "cell_type": "code",
      "source": [
        "def decision_function(X, weights, bias):\n",
        "    \"\"\"\n",
        "    Compute the predicted labels for the input data.\n",
        "\n",
        "    Parameters:\n",
        "    - X: Features (input data) as a numpy array of shape (n_samples, n_features)\n",
        "    - weights: Updated weights after training\n",
        "    - bias: Updated bias after training\n",
        "\n",
        "    Returns:\n",
        "    - y_pred_all: The predicted labels for the input data (0 or 1)\n",
        "    \"\"\"\n",
        "    # Compute linear combination of inputs and weights\n",
        "    predictions = np.dot(X, weights) + bias\n",
        "\n",
        "    # Apply step function (threshold at 0)\n",
        "    y_pred_all = np.where(predictions >= 0, 1, 0)\n",
        "\n",
        "    return y_pred_all\n"
      ],
      "metadata": {
        "id": "oOhRu0arSkKP"
      },
      "execution_count": 30,
      "outputs": []
    },
    {
      "cell_type": "markdown",
      "source": [
        "Implement the Perceptron Learning Algorithm"
      ],
      "metadata": {
        "id": "ILLw7IyJSmbt"
      }
    },
    {
      "cell_type": "code",
      "source": [
        "def train_perceptron(X, y, weights, bias, learning_rate=0.1, epochs=100):\n",
        "    \"\"\"\n",
        "    Train the perceptron using the Perceptron Learning Algorithm.\n",
        "\n",
        "    Parameters:\n",
        "    - X: Features (input data) as a numpy array of shape (n_samples, n_features)\n",
        "    - y: Labels (true output) as a numpy array of shape (n_samples,)\n",
        "    - weights: Initial weights as a numpy array of shape (n_features,)\n",
        "    - bias: Initial bias value (scalar)\n",
        "    - learning_rate: Learning rate for weight updates (default is 0.1)\n",
        "    - epochs: Number of iterations to train the model (default is 100)\n",
        "\n",
        "    Returns:\n",
        "    - weights: Updated weights after training\n",
        "    - bias: Updated bias after training\n",
        "    - accuracy: Total correct predictions at the last epoch.\n",
        "    \"\"\"\n",
        "    n_samples = X.shape[0]\n",
        "\n",
        "    for _ in range(epochs):\n",
        "        correct_predictions = 0\n",
        "        for i in range(n_samples):\n",
        "            # Compute prediction using step function\n",
        "            linear_output = np.dot(X[i], weights) + bias\n",
        "            y_pred = 1 if linear_output >= 0 else 0\n",
        "\n",
        "            # Update weights and bias if prediction is incorrect\n",
        "            if y_pred != y[i]:\n",
        "                weights += learning_rate * (y[i] - y_pred) * X[i]\n",
        "                bias += learning_rate * (y[i] - y_pred)\n",
        "            else:\n",
        "                correct_predictions += 1\n",
        "\n",
        "    # Compute accuracy at the last epoch\n",
        "    accuracy = correct_predictions / n_samples\n",
        "\n",
        "    return weights, bias, accuracy\n"
      ],
      "metadata": {
        "id": "tdYH87yoSpD6"
      },
      "execution_count": 31,
      "outputs": []
    },
    {
      "cell_type": "markdown",
      "source": [
        "Training the Perceptron"
      ],
      "metadata": {
        "id": "TbEQRFy8SsBy"
      }
    },
    {
      "cell_type": "code",
      "source": [
        "# After training the model with the perceptron_learning_algorithm\n",
        "weights, bias, accuracy = train_perceptron(X, y, weights, bias)\n",
        "\n",
        "# Evaluate the model using the new function\n",
        "print(\"The Final Accuracy is: \", accuracy)"
      ],
      "metadata": {
        "colab": {
          "base_uri": "https://localhost:8080/"
        },
        "id": "p_0ZvfmWSp21",
        "outputId": "2d2a3528-c595-4f0d-8a6e-228f8d624764"
      },
      "execution_count": 32,
      "outputs": [
        {
          "output_type": "stream",
          "name": "stdout",
          "text": [
            "The Final Accuracy is:  0.0\n"
          ]
        }
      ]
    },
    {
      "cell_type": "markdown",
      "source": [
        " Visualize Misclassified Images"
      ],
      "metadata": {
        "id": "8vj4RIkESwNV"
      }
    },
    {
      "cell_type": "code",
      "source": [
        "# Get predictions for all data points\n",
        "predictions = np.dot(X, weights) + bias\n",
        "y_pred = np.where(predictions >= 0, 1, 0)\n",
        "\n",
        "# Calculate final accuracy\n",
        "final_accuracy = np.mean(y_pred == y)\n",
        "print(f\"Final Accuracy: {final_accuracy:.4f}\")\n",
        "\n",
        "# Step 5: Visualize Misclassified Images\n",
        "misclassified_idx = np.where(y_pred != y)[0]\n",
        "if len(misclassified_idx) > 0:\n",
        "    fig, axes = plt.subplots(2, 5, figsize=(10, 5))\n",
        "    for ax, idx in zip(axes.flat, misclassified_idx[:10]):  # Show 10 misclassified images\n",
        "        ax.imshow(X[idx].reshape(28, 28), cmap=\"gray\")\n",
        "        ax.set_title(f\"Pred: {y_pred[idx]}, True: {y[idx]}\")\n",
        "        ax.axis(\"off\")\n",
        "    plt.suptitle(\"Misclassified Images\")\n",
        "    plt.show()\n",
        "else:\n",
        "    print(\"All images were correctly classified!\")"
      ],
      "metadata": {
        "colab": {
          "base_uri": "https://localhost:8080/",
          "height": 468
        },
        "id": "nig-Rb3-SxFB",
        "outputId": "a212ae3a-77c2-468d-ea1f-5943b904f3b6"
      },
      "execution_count": 33,
      "outputs": [
        {
          "output_type": "stream",
          "name": "stdout",
          "text": [
            "Final Accuracy: 0.0000\n"
          ]
        },
        {
          "output_type": "display_data",
          "data": {
            "text/plain": [
              "<Figure size 1000x500 with 10 Axes>"
            ],
            "image/png": "[encoded data removed]"
          },
          "metadata": {}
        }
      ]
    }
  ]
}