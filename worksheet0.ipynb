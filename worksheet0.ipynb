{
  "nbformat": 4,
  "nbformat_minor": 0,
  "metadata": {
    "colab": {
      "provenance": []
    },
    "kernelspec": {
      "name": "python3",
      "display_name": "Python 3"
    },
    "language_info": {
      "name": "python"
    }
  },
  "cells": [
    {
      "cell_type": "markdown",
      "source": [],
      "metadata": {
        "id": "aFvbAu_RQfPR"
      }
    },
    {
      "cell_type": "markdown",
      "source": [
        "#Basic Vector and Matrix Operation with Numpy.\n"
      ],
      "metadata": {
        "id": "uutmJjbvQgwF"
      }
    },
    {
      "cell_type": "markdown",
      "source": [
        "Problem - 1: Array Creation:"
      ],
      "metadata": {
        "id": "2LQfpDHbQlRl"
      }
    },
    {
      "cell_type": "code",
      "source": [
        "import numpy as np\n",
        "#Initialize an empty array with size 2X2.\n",
        "emp_array=np.empty((2,2),dtype=object)\n",
        "print(emp_array)"
      ],
      "metadata": {
        "colab": {
          "base_uri": "https://localhost:8080/"
        },
        "id": "V1dxM07QQivd",
        "outputId": "d67238d2-13bc-4b84-d9c4-7504ded762f6"
      },
      "execution_count": 4,
      "outputs": [
        {
          "output_type": "stream",
          "name": "stdout",
          "text": [
            "[[None None]\n",
            " [None None]]\n"
          ]
        }
      ]
    },
    {
      "cell_type": "code",
      "source": [
        "#Initialize an all one array with size 4X2.\n",
        "one_array=np.ones((4,2))\n",
        "print(one_array)"
      ],
      "metadata": {
        "colab": {
          "base_uri": "https://localhost:8080/"
        },
        "id": "rJnxoCLfRqIA",
        "outputId": "d7608a98-1686-4f32-f50b-bc39a794a42e"
      },
      "execution_count": 5,
      "outputs": [
        {
          "output_type": "stream",
          "name": "stdout",
          "text": [
            "[[1. 1.]\n",
            " [1. 1.]\n",
            " [1. 1.]\n",
            " [1. 1.]]\n"
          ]
        }
      ]
    },
    {
      "cell_type": "code",
      "source": [
        "#Return a new array of given shape and type, filled with fill value.\n",
        "row=int(input(\"enter the row of array : \"))\n",
        "col=int(input(\"enter the colowm of array : \"))\n",
        "value=int(input(\"enter the value of the array : \"))\n",
        "\n",
        "array=np.full((row,col),value)\n",
        "print(array)"
      ],
      "metadata": {
        "colab": {
          "base_uri": "https://localhost:8080/"
        },
        "id": "oEO8qkhRRz-5",
        "outputId": "fc1ea2e4-8a5e-489d-8e38-1db8bf2490bb"
      },
      "execution_count": 6,
      "outputs": [
        {
          "output_type": "stream",
          "name": "stdout",
          "text": [
            "enter the row of array : 4\n",
            "enter the colowm of array : 2\n",
            "enter the value of the array : 6\n",
            "[[6 6]\n",
            " [6 6]\n",
            " [6 6]\n",
            " [6 6]]\n"
          ]
        }
      ]
    },
    {
      "cell_type": "code",
      "source": [
        "#Return a new array of zeros with same shape and type as a given array.\n",
        "given_array=np.array([[3,4,5],[1,2,6],[7,8,9]])\n",
        "zero_array=np.zeros_like(given_array)\n",
        "print(zero_array)\n"
      ],
      "metadata": {
        "colab": {
          "base_uri": "https://localhost:8080/"
        },
        "id": "yfhoPzqUSlof",
        "outputId": "0f467ea3-ca2d-4d14-ad4c-27e17b02bafc"
      },
      "execution_count": 7,
      "outputs": [
        {
          "output_type": "stream",
          "name": "stdout",
          "text": [
            "[[0 0 0]\n",
            " [0 0 0]\n",
            " [0 0 0]]\n"
          ]
        }
      ]
    },
    {
      "cell_type": "code",
      "source": [
        "#Return a new array of ones with same shape and type as a given array.\n",
        "one_array=np.ones_like(given_array)\n",
        "print(one_array)"
      ],
      "metadata": {
        "colab": {
          "base_uri": "https://localhost:8080/"
        },
        "id": "JzCQogHWTdTv",
        "outputId": "18bcbe3d-f88f-477c-b5ef-9290cd2af259"
      },
      "execution_count": 9,
      "outputs": [
        {
          "output_type": "stream",
          "name": "stdout",
          "text": [
            "[[1 1 1]\n",
            " [1 1 1]\n",
            " [1 1 1]]\n"
          ]
        }
      ]
    },
    {
      "cell_type": "code",
      "source": [
        "#For an existing list new_list = [1,2,3,4] convert to an numpy array.\n",
        "new_list = [1,2,3,4]\n",
        "new_array=np.array(new_list)\n",
        "print(new_array)"
      ],
      "metadata": {
        "colab": {
          "base_uri": "https://localhost:8080/"
        },
        "id": "FWVaon6aTvg_",
        "outputId": "86d9ca27-451b-49ef-fe2a-6ee58cd152d4"
      },
      "execution_count": 10,
      "outputs": [
        {
          "output_type": "stream",
          "name": "stdout",
          "text": [
            "[1 2 3 4]\n"
          ]
        }
      ]
    },
    {
      "cell_type": "markdown",
      "source": [
        "Problem - 2: Array Manipulation: Numerical Ranges and Array indexing:"
      ],
      "metadata": {
        "id": "34W9TKIrUEef"
      }
    },
    {
      "cell_type": "code",
      "source": [
        "#Create an array with values ranging from 10 to 49.\n",
        "array=np.array(range(10,49))\n",
        "print(array)"
      ],
      "metadata": {
        "colab": {
          "base_uri": "https://localhost:8080/"
        },
        "id": "FeWbKXTyUFWx",
        "outputId": "6a7091f0-f38a-44a4-f676-cc6a26ab7030"
      },
      "execution_count": 13,
      "outputs": [
        {
          "output_type": "stream",
          "name": "stdout",
          "text": [
            "[10 11 12 13 14 15 16 17 18 19 20 21 22 23 24 25 26 27 28 29 30 31 32 33\n",
            " 34 35 36 37 38 39 40 41 42 43 44 45 46 47 48]\n"
          ]
        }
      ]
    },
    {
      "cell_type": "code",
      "source": [
        "#Create a 3X3 matrix with values ranging from 0 to 8.\n",
        "array=np.array(range(0,9))\n",
        "matrix=array.reshape(3,3)\n",
        "print(matrix)"
      ],
      "metadata": {
        "colab": {
          "base_uri": "https://localhost:8080/"
        },
        "id": "p1v6hiCxUbgI",
        "outputId": "982cdadd-45fd-4dee-d167-aececaf7c025"
      },
      "execution_count": 14,
      "outputs": [
        {
          "output_type": "stream",
          "name": "stdout",
          "text": [
            "[[0 1 2]\n",
            " [3 4 5]\n",
            " [6 7 8]]\n"
          ]
        }
      ]
    },
    {
      "cell_type": "code",
      "source": [
        "#Create a 3X3 identity matrix.\n",
        "matrix=np.eye(3)\n",
        "print(matrix)"
      ],
      "metadata": {
        "colab": {
          "base_uri": "https://localhost:8080/"
        },
        "id": "En8eBV9pU0oo",
        "outputId": "2ab45916-6f57-4b5e-8b41-7b67a0d4c427"
      },
      "execution_count": 18,
      "outputs": [
        {
          "output_type": "stream",
          "name": "stdout",
          "text": [
            "[[1. 0. 0.]\n",
            " [0. 1. 0.]\n",
            " [0. 0. 1.]]\n"
          ]
        }
      ]
    },
    {
      "cell_type": "code",
      "source": [
        "#Create a random array of size 30 and find the mean of the array.\n",
        "array=np.array(range(30))\n",
        "mean=np.mean(array)\n",
        "print(mean)"
      ],
      "metadata": {
        "colab": {
          "base_uri": "https://localhost:8080/"
        },
        "id": "sw5cfatDVHVf",
        "outputId": "62d06d75-7399-45c1-fee4-6460e4d8a74c"
      },
      "execution_count": 20,
      "outputs": [
        {
          "output_type": "stream",
          "name": "stdout",
          "text": [
            "14.5\n"
          ]
        }
      ]
    },
    {
      "cell_type": "code",
      "source": [
        "#Create a 10X10 array with random values and find the minimum and maximum values.\n",
        "array = np.random.rand(10, 10)\n",
        "print (array)\n",
        "min=np.min(array)\n",
        "max=np.max(array)\n",
        "\n",
        "print(\"minimum value in array : \",min)\n",
        "print(\"maximum value in array : \",max)\n"
      ],
      "metadata": {
        "colab": {
          "base_uri": "https://localhost:8080/"
        },
        "id": "hvXuOhDEVW7S",
        "outputId": "abcc7a55-56ec-4bc5-f3df-a51527d4acd5"
      },
      "execution_count": 25,
      "outputs": [
        {
          "output_type": "stream",
          "name": "stdout",
          "text": [
            "[[0.51977697 0.69657094 0.0963346  0.79393178 0.5897801  0.81244114\n",
            "  0.64800523 0.80204913 0.72544186 0.85214634]\n",
            " [0.42155421 0.18677847 0.37178514 0.98777447 0.75629699 0.76397658\n",
            "  0.65036385 0.03322304 0.88150422 0.01255595]\n",
            " [0.62232797 0.67513677 0.99926403 0.63143628 0.48224945 0.53402369\n",
            "  0.42304091 0.80489234 0.16580959 0.76491144]\n",
            " [0.83442402 0.87475777 0.65871856 0.06907673 0.70365653 0.75968101\n",
            "  0.57832208 0.30878793 0.9330003  0.31001945]\n",
            " [0.52545899 0.7625472  0.68965681 0.95400013 0.35339495 0.24554387\n",
            "  0.78121792 0.275862   0.74305442 0.13095029]\n",
            " [0.48268474 0.16777628 0.41292816 0.60473867 0.57751328 0.41146994\n",
            "  0.9528757  0.04113148 0.86137987 0.15097215]\n",
            " [0.21987711 0.12361696 0.49191518 0.28559018 0.80883167 0.61203716\n",
            "  0.50183045 0.28153205 0.36102507 0.62827795]\n",
            " [0.70139686 0.54153251 0.61962595 0.88335181 0.63671168 0.689632\n",
            "  0.87230595 0.48207091 0.54214493 0.0776858 ]\n",
            " [0.63764326 0.84469395 0.00595811 0.03506755 0.29383718 0.6367656\n",
            "  0.32641382 0.10505389 0.67216823 0.35410248]\n",
            " [0.60656711 0.4526951  0.18383555 0.40718509 0.84016669 0.42423823\n",
            "  0.65459333 0.68677717 0.20228455 0.32241497]]\n",
            "minimum value in array :  0.005958105330963526\n",
            "maximum value in array :  0.9992640308892767\n"
          ]
        }
      ]
    },
    {
      "cell_type": "code",
      "source": [
        "# Create a zero array of size 10 and replace 5th element with 1.\n",
        "array=np.zeros(10)\n",
        "array[4]=1\n",
        "print(array)"
      ],
      "metadata": {
        "colab": {
          "base_uri": "https://localhost:8080/"
        },
        "id": "whJUzZ_IWkni",
        "outputId": "e001e721-7275-4e3c-bcec-21e5dd5c5e5b"
      },
      "execution_count": 26,
      "outputs": [
        {
          "output_type": "stream",
          "name": "stdout",
          "text": [
            "[0. 0. 0. 0. 1. 0. 0. 0. 0. 0.]\n"
          ]
        }
      ]
    },
    {
      "cell_type": "code",
      "source": [
        "#Reverse an array arr = [1,2,0,0,4,0].\n",
        "arr = [1,2,0,0,4,0]\n",
        "rev_arr=arr[::-1]\n",
        "print(rev_arr)"
      ],
      "metadata": {
        "colab": {
          "base_uri": "https://localhost:8080/"
        },
        "id": "xyv2s2hWW0-e",
        "outputId": "2a8c9f6c-ff6a-408c-c2c0-a3388ca12097"
      },
      "execution_count": 27,
      "outputs": [
        {
          "output_type": "stream",
          "name": "stdout",
          "text": [
            "[0, 4, 0, 0, 2, 1]\n"
          ]
        }
      ]
    },
    {
      "cell_type": "code",
      "source": [
        "#Create a 2d array with 1 on border and 0 inside.\n",
        "array=np.ones((5,5))\n",
        "array[1:-1,1:-1]=0\n",
        "print(array)"
      ],
      "metadata": {
        "colab": {
          "base_uri": "https://localhost:8080/"
        },
        "id": "FPIIFKjrXDrL",
        "outputId": "e9170dcc-db4b-4402-9bcb-d0d929f951b9"
      },
      "execution_count": 29,
      "outputs": [
        {
          "output_type": "stream",
          "name": "stdout",
          "text": [
            "[[1. 1. 1. 1. 1.]\n",
            " [1. 0. 0. 0. 1.]\n",
            " [1. 0. 0. 0. 1.]\n",
            " [1. 0. 0. 0. 1.]\n",
            " [1. 1. 1. 1. 1.]]\n"
          ]
        }
      ]
    },
    {
      "cell_type": "code",
      "source": [
        "#Create a 8X8 matrix and fill it with a checkerboard pattern.\n",
        "array=np.zeros((8,8))\n",
        "array[1::2,::2]=1\n",
        "array[::2,1::2]=1\n",
        "print(array)"
      ],
      "metadata": {
        "colab": {
          "base_uri": "https://localhost:8080/"
        },
        "id": "AeiGJIl0XaQ6",
        "outputId": "5d8875cd-1c50-44e6-f839-4ff9a738a802"
      },
      "execution_count": 30,
      "outputs": [
        {
          "output_type": "stream",
          "name": "stdout",
          "text": [
            "[[0. 1. 0. 1. 0. 1. 0. 1.]\n",
            " [1. 0. 1. 0. 1. 0. 1. 0.]\n",
            " [0. 1. 0. 1. 0. 1. 0. 1.]\n",
            " [1. 0. 1. 0. 1. 0. 1. 0.]\n",
            " [0. 1. 0. 1. 0. 1. 0. 1.]\n",
            " [1. 0. 1. 0. 1. 0. 1. 0.]\n",
            " [0. 1. 0. 1. 0. 1. 0. 1.]\n",
            " [1. 0. 1. 0. 1. 0. 1. 0.]]\n"
          ]
        }
      ]
    },
    {
      "cell_type": "markdown",
      "source": [
        "Problem - 3: Array Operations:\n",
        "\n",
        "For the following arrays:\n",
        "\n",
        "x = np.array([[1,2],[3,5]]) and y = np.array([[5,6],[7,8]]);\n",
        "\n",
        "v = np.array([9,10]) and w = np.array([11,12]);\n",
        "\n",
        "Complete all the task using numpy:"
      ],
      "metadata": {
        "id": "_jeaOeVAYFHT"
      }
    },
    {
      "cell_type": "code",
      "source": [
        "x = np.array([[1,2],[3,5]])\n",
        "y = np.array([[5,6],[7,8]]);\n",
        "v = np.array([9,10])\n",
        "w = np.array([11,12]);\n",
        "\n",
        "#Add the two array.\n",
        "add_array=np.add(x,y)\n",
        "print(\"the result of adding array x and y is : \",add_array)\n",
        "add_array1=np.add(v,w)\n",
        "print(\"the result of adding array v and w is : \",add_array1)"
      ],
      "metadata": {
        "colab": {
          "base_uri": "https://localhost:8080/"
        },
        "id": "JscwA8VUYDXK",
        "outputId": "a09b425b-593d-4298-90a7-3c9cd03428ee"
      },
      "execution_count": 32,
      "outputs": [
        {
          "output_type": "stream",
          "name": "stdout",
          "text": [
            "the result of adding array x and y is :  [[ 6  8]\n",
            " [10 13]]\n",
            "the result of adding array v and w is :  [20 22]\n"
          ]
        }
      ]
    },
    {
      "cell_type": "code",
      "source": [
        "#Subtract the two array.\n",
        "sub_array=np.subtract(x,y)\n",
        "print(\"the result of subtracting array x and y is : \",sub_array)\n",
        "sub_array1=np.subtract(v,w)\n",
        "print(\"the result of subtracting array v and w is : \",sub_array1)"
      ],
      "metadata": {
        "colab": {
          "base_uri": "https://localhost:8080/"
        },
        "id": "A3Sfp3g7ZTib",
        "outputId": "e1d94578-03ba-481e-eb51-3f9232988931"
      },
      "execution_count": 36,
      "outputs": [
        {
          "output_type": "stream",
          "name": "stdout",
          "text": [
            "the result of subtracting array x and y is :  [[-4 -4]\n",
            " [-4 -3]]\n",
            "the result of subtracting array v and w is :  [-2 -2]\n"
          ]
        }
      ]
    },
    {
      "cell_type": "code",
      "source": [
        "#Multiply the array with any integers of your choice.\n",
        "mul_array=np.multiply(x,y)\n",
        "print(\"the result of multiplying array x and y is : \",mul_array)\n",
        "mul_array1=np.multiply(v,w)\n",
        "print(\"the result of multiplying array v and w is : \",mul_array1)"
      ],
      "metadata": {
        "colab": {
          "base_uri": "https://localhost:8080/"
        },
        "id": "mtJ5-QJjZwoQ",
        "outputId": "9dbe7173-8661-4271-8de7-cb5fe7dfa38e"
      },
      "execution_count": 37,
      "outputs": [
        {
          "output_type": "stream",
          "name": "stdout",
          "text": [
            "the result of multiplying array x and y is :  [[ 5 12]\n",
            " [21 40]]\n",
            "the result of multiplying array v and w is :  [ 99 120]\n"
          ]
        }
      ]
    },
    {
      "cell_type": "code",
      "source": [
        "# Find the square of each element of the array\n",
        "square_array=np.square(x)\n",
        "print(\"the result of square of each element of array x : \",square_array)\n",
        "square_array1=np.square(y)\n",
        "print(\"the result of square of each element of array y : \",square_array1)\n",
        "square_array2=np.square(v)\n",
        "print(\"the result of square of each element of array v : \",square_array2)\n",
        "square_array3=np.square(w)\n",
        "print(\"the result of square of each element of array w : \",square_array3)"
      ],
      "metadata": {
        "colab": {
          "base_uri": "https://localhost:8080/"
        },
        "id": "aTIjzIyhaCkD",
        "outputId": "391bd3f0-aac2-4a8a-fe81-ac65f43f5c86"
      },
      "execution_count": 38,
      "outputs": [
        {
          "output_type": "stream",
          "name": "stdout",
          "text": [
            "the result of square of each element of array x :  [[ 1  4]\n",
            " [ 9 25]]\n",
            "the result of square of each element of array y :  [[25 36]\n",
            " [49 64]]\n",
            "the result of square of each element of array v :  [ 81 100]\n",
            "the result of square of each element of array w :  [121 144]\n"
          ]
        }
      ]
    },
    {
      "cell_type": "code",
      "source": [
        "#Find the dot product between: v(and)w ; x(and)v ; x(and)y.\n",
        "dot_array=np.dot(v,w)\n",
        "print(\"the result of dot product between array v and w : \",dot_array)\n",
        "dot_array1=np.dot(x,y)\n",
        "print(\"the result of dot product between array x and y : \",dot_array1)"
      ],
      "metadata": {
        "colab": {
          "base_uri": "https://localhost:8080/"
        },
        "id": "XhsJObCnaoKH",
        "outputId": "5acaf971-8ea2-4f6f-b9de-35a3538ae6d7"
      },
      "execution_count": 40,
      "outputs": [
        {
          "output_type": "stream",
          "name": "stdout",
          "text": [
            "the result of dot product between array v and w :  219\n",
            "the result of dot product between array x and y :  [[19 22]\n",
            " [50 58]]\n"
          ]
        }
      ]
    },
    {
      "cell_type": "code",
      "source": [
        "#Concatenate x(and)y along row and Concatenate v(and)w along column.\n",
        "concat_array=np.concatenate((x,y),axis=1)\n",
        "print(\"the result Concatenate x and y along colum: \",concat_array)\n",
        "\n",
        "concat_array1=np.concatenate((v,w),axis=0)\n",
        "print(\"the result Concatenate v and w along row: \",concat_array1)\n",
        "\n"
      ],
      "metadata": {
        "colab": {
          "base_uri": "https://localhost:8080/"
        },
        "id": "hlQ6PJXqbE_m",
        "outputId": "84c9f97d-e403-4259-9fdf-460a2060e6de"
      },
      "execution_count": 46,
      "outputs": [
        {
          "output_type": "stream",
          "name": "stdout",
          "text": [
            "the result Concatenate x and y along row:  [[1 2 5 6]\n",
            " [3 5 7 8]]\n",
            "the result Concatenate v and w along row:  [ 9 10 11 12]\n"
          ]
        }
      ]
    },
    {
      "cell_type": "code",
      "source": [
        "#Concatenate x(and)v; if you get an error, observe and explain why did you get the error?\n",
        "concat_array1=np.concatenate((x,v),axis=1)\n",
        "print(\"the result Concatenate v and w along row: \",concat_array1)\n"
      ],
      "metadata": {
        "colab": {
          "base_uri": "https://localhost:8080/",
          "height": 176
        },
        "id": "8nO8JvqBcC-k",
        "outputId": "177c49fc-aea0-47f9-a131-50a56a93e39a"
      },
      "execution_count": 47,
      "outputs": [
        {
          "output_type": "error",
          "ename": "ValueError",
          "evalue": "all the input arrays must have same number of dimensions, but the array at index 0 has 2 dimension(s) and the array at index 1 has 1 dimension(s)",
          "traceback": [
            "\u001b[0;31m---------------------------------------------------------------------------\u001b[0m",
            "\u001b[0;31mValueError\u001b[0m                                Traceback (most recent call last)",
            "\u001b[0;32m<ipython-input-47-62e3cdf3deb6>\u001b[0m in \u001b[0;36m<cell line: 0>\u001b[0;34m()\u001b[0m\n\u001b[1;32m      1\u001b[0m \u001b[0;31m#Concatenate x(and)v; if you get an error, observe and explain why did you get the error?\u001b[0m\u001b[0;34m\u001b[0m\u001b[0;34m\u001b[0m\u001b[0m\n\u001b[0;32m----> 2\u001b[0;31m \u001b[0mconcat_array1\u001b[0m\u001b[0;34m=\u001b[0m\u001b[0mnp\u001b[0m\u001b[0;34m.\u001b[0m\u001b[0mconcatenate\u001b[0m\u001b[0;34m(\u001b[0m\u001b[0;34m(\u001b[0m\u001b[0mx\u001b[0m\u001b[0;34m,\u001b[0m\u001b[0mv\u001b[0m\u001b[0;34m)\u001b[0m\u001b[0;34m,\u001b[0m\u001b[0maxis\u001b[0m\u001b[0;34m=\u001b[0m\u001b[0;36m1\u001b[0m\u001b[0;34m)\u001b[0m\u001b[0;34m\u001b[0m\u001b[0;34m\u001b[0m\u001b[0m\n\u001b[0m\u001b[1;32m      3\u001b[0m \u001b[0mprint\u001b[0m\u001b[0;34m(\u001b[0m\u001b[0;34m\"the result Concatenate v and w along row: \"\u001b[0m\u001b[0;34m,\u001b[0m\u001b[0mconcat_array1\u001b[0m\u001b[0;34m)\u001b[0m\u001b[0;34m\u001b[0m\u001b[0;34m\u001b[0m\u001b[0m\n",
            "\u001b[0;31mValueError\u001b[0m: all the input arrays must have same number of dimensions, but the array at index 0 has 2 dimension(s) and the array at index 1 has 1 dimension(s)"
          ]
        }
      ]
    },
    {
      "cell_type": "markdown",
      "source": [
        "Problem - 4: Matrix Operations:\n",
        "\n",
        "• For the following arrays:\n",
        "\n",
        "A = np.array([[3,4],[7,8]]) and B = np.array([[5,3],[2,1]]);\n",
        "\n",
        "Prove following with Numpy:"
      ],
      "metadata": {
        "id": "tw_0twlJcUhS"
      }
    },
    {
      "cell_type": "code",
      "source": [
        "A = np.array([[3,4],[7,8]])\n",
        "B = np.array([[5,3],[2,1]])\n",
        "#Prove A.A−1 = I.\n",
        "a_inv=np.linalg.inv(A)\n",
        "result=np.dot(A,a_inv)\n",
        "result = np.round(result, decimals=6)\n",
        "print(\"A * A⁻¹ = \\n\", result)\n"
      ],
      "metadata": {
        "colab": {
          "base_uri": "https://localhost:8080/"
        },
        "id": "d73-OchscTr6",
        "outputId": "c4d42002-1c40-40db-cdf9-5e0213126a14"
      },
      "execution_count": 50,
      "outputs": [
        {
          "output_type": "stream",
          "name": "stdout",
          "text": [
            "A * A⁻¹ = \n",
            " [[1. 0.]\n",
            " [0. 1.]]\n"
          ]
        }
      ]
    },
    {
      "cell_type": "code",
      "source": [
        "#Prove AB ̸= BA.\n",
        "result=np.dot(A,B)\n",
        "result1=np.dot(B,A)\n",
        "print(\"AB =\",result)\n",
        "print(\"BA =\",result1)\n",
        "print(\"AB == BA:\", np.array_equal(result, result1))"
      ],
      "metadata": {
        "colab": {
          "base_uri": "https://localhost:8080/"
        },
        "id": "t9Wm9TVudT7I",
        "outputId": "5e650a5c-9ed5-4618-f250-f45c847d3f23"
      },
      "execution_count": 53,
      "outputs": [
        {
          "output_type": "stream",
          "name": "stdout",
          "text": [
            "AB = [[23 13]\n",
            " [51 29]]\n",
            "BA = [[36 44]\n",
            " [13 16]]\n",
            "AB == BA: False\n"
          ]
        }
      ]
    },
    {
      "cell_type": "code",
      "source": [
        "#Prove (AB)T = BTAT\n",
        "AB_transpose=np.transpose(result)\n",
        "B_transpose=np.transpose(B)\n",
        "A_transpose=np.transpose(A)\n",
        "BTAT=np.dot(B_transpose,A_transpose)\n",
        "print(\"(AB)T = \\n\",AB_transpose)\n",
        "print(\"BTAT = \\n\",BTAT)\n",
        "print(\"(AB)T = BTAT:\", np.array_equal(AB_transpose, BTAT))"
      ],
      "metadata": {
        "colab": {
          "base_uri": "https://localhost:8080/"
        },
        "id": "dYbqBACucP6-",
        "outputId": "4476dedb-b4fa-4c33-a811-3ecac16fbb9f"
      },
      "execution_count": 56,
      "outputs": [
        {
          "output_type": "stream",
          "name": "stdout",
          "text": [
            "(AB)T = \n",
            " [[23 51]\n",
            " [13 29]]\n",
            "BTAT = \n",
            " [[23 51]\n",
            " [13 29]]\n",
            "(AB)T = BTAT: True\n"
          ]
        }
      ]
    },
    {
      "cell_type": "markdown",
      "source": [
        "Solve the following system of Linear equation using Inverse Methods.\n",
        "\n",
        "2x − 3y + z = −1\n",
        "\n",
        "x − y + 2z = −3\n",
        "\n",
        "3x + y − z = 9"
      ],
      "metadata": {
        "id": "fyYnKL65fPsE"
      }
    },
    {
      "cell_type": "code",
      "source": [
        "A = np.array([[2, -3, 1],\n",
        "              [1, -1, 2],\n",
        "              [3, 1, -1]])\n",
        "B=np.array([-1,-3,9])\n",
        "a_inv=np.linalg.inv(A)\n",
        "x=np.dot(a_inv,B)\n",
        "print(x)"
      ],
      "metadata": {
        "colab": {
          "base_uri": "https://localhost:8080/"
        },
        "id": "3RUR-B1lfTnH",
        "outputId": "e4d89882-25ec-4518-8bbe-cfbe9acfe17a"
      },
      "execution_count": 60,
      "outputs": [
        {
          "output_type": "stream",
          "name": "stdout",
          "text": [
            "[ 2.  1. -2.]\n"
          ]
        }
      ]
    },
    {
      "cell_type": "markdown",
      "source": [
        "#10.2 Experiment: How Fast is Numpy?\n",
        "\n",
        "In this exercise, you will compare the performance and implementation of operations using plain Python\n",
        "lists (arrays) and NumPy arrays. Follow the instructions:"
      ],
      "metadata": {
        "id": "l97GbOB5gafx"
      }
    },
    {
      "cell_type": "markdown",
      "source": [
        "Element-wise Addition:"
      ],
      "metadata": {
        "id": "t2Of2lSqgca7"
      }
    },
    {
      "cell_type": "code",
      "source": [
        "#Using Python Lists, perform element-wise addition of two lists of size 1, 000, 000. Measure and Print the time taken for this operation.\n",
        "import time\n",
        "\n",
        "list1 = [i for i in range(1, 1000001)]\n",
        "list2 = [i for i in range(1000001, 2000001)]\n",
        "start_time = time.time()\n",
        "result = [list1[i] + list2[i] for i in range(len(list1))]\n",
        "end_time = time.time()\n",
        "print(\"Time taken for element-wise addition:\", end_time - start_time, \"seconds\")\n"
      ],
      "metadata": {
        "colab": {
          "base_uri": "https://localhost:8080/"
        },
        "id": "suckc3jNgm5r",
        "outputId": "8ac5d364-8607-45a0-8d41-909ffa17e1cf"
      },
      "execution_count": 64,
      "outputs": [
        {
          "output_type": "stream",
          "name": "stdout",
          "text": [
            "Time taken for element-wise addition: 0.09197568893432617 seconds\n"
          ]
        }
      ]
    },
    {
      "cell_type": "code",
      "source": [
        "#• Using Numpy Arrays, Repeat the calculation and measure and print the time taken for this operation.\n",
        "array1 = np.arange(1, 1000001)\n",
        "array2 = np.arange(1000001, 2000001)\n",
        "start_time = time.time()\n",
        "result = array1 + array2\n",
        "end_time = time.time()\n",
        "print(\"Time taken for element-wise addition with NumPy:\", end_time - start_time, \"seconds\")\n"
      ],
      "metadata": {
        "colab": {
          "base_uri": "https://localhost:8080/"
        },
        "id": "2E1N-p1zgKp6",
        "outputId": "e592c830-d2e2-463f-efb5-8144f7b146a7"
      },
      "execution_count": 65,
      "outputs": [
        {
          "output_type": "stream",
          "name": "stdout",
          "text": [
            "Time taken for element-wise addition with NumPy: 0.003559589385986328 seconds\n"
          ]
        }
      ]
    },
    {
      "cell_type": "markdown",
      "source": [
        "Element-wise Multiplication"
      ],
      "metadata": {
        "id": "kYjIalRnjD2J"
      }
    },
    {
      "cell_type": "markdown",
      "source": [],
      "metadata": {
        "id": "ghgxML8-jHho"
      }
    },
    {
      "cell_type": "code",
      "source": [
        "#Using Python Lists, perform element-wise multiplication of two lists of size 1, 000, 000. Measure and Print the time taken for this operation.\n",
        "\n",
        "list1 = [i for i in range(1, 1000001)]\n",
        "list2 = [i for i in range(1000001, 2000001)]\n",
        "start_time = time.time()\n",
        "result = [list1[i] * list2[i] for i in range(len(list1))]\n",
        "end_time = time.time()\n",
        "print(\"Time taken for element-wise multiplication:\", end_time - start_time, \"seconds\")"
      ],
      "metadata": {
        "colab": {
          "base_uri": "https://localhost:8080/"
        },
        "id": "PsSyTIzojACG",
        "outputId": "00bbe604-2ea4-4cc7-efb2-5039f3ebe1fd"
      },
      "execution_count": 67,
      "outputs": [
        {
          "output_type": "stream",
          "name": "stdout",
          "text": [
            "Time taken for element-wise addition: 0.09737133979797363 seconds\n"
          ]
        }
      ]
    },
    {
      "cell_type": "code",
      "source": [
        "#• Using Numpy Arrays, Repeat the calculation and measure and print the time taken for this operation.\n",
        "array1 = np.arange(1, 1000001)\n",
        "array2 = np.arange(1000001, 2000001)\n",
        "start_time = time.time()\n",
        "result = array1 * array2\n",
        "end_time = time.time()\n",
        "print(\"Time taken for element-wise addition with NumPy:\", end_time - start_time, \"seconds\")"
      ],
      "metadata": {
        "colab": {
          "base_uri": "https://localhost:8080/"
        },
        "id": "JLD74EsQjU3I",
        "outputId": "efcc5e88-6a3c-44de-b79a-fd82c4f0b270"
      },
      "execution_count": 68,
      "outputs": [
        {
          "output_type": "stream",
          "name": "stdout",
          "text": [
            "Time taken for element-wise addition with NumPy: 0.004141807556152344 seconds\n"
          ]
        }
      ]
    },
    {
      "cell_type": "markdown",
      "source": [
        "Dot Product"
      ],
      "metadata": {
        "id": "FcLzY5nTjcvN"
      }
    },
    {
      "cell_type": "code",
      "source": [
        "#Using Python Lists, compute the dot product of two lists of size 1, 000, 000. Measure and Print the time taken for this operation.\n",
        "list1 = [i for i in range(1, 1000001)]\n",
        "list2 = [i for i in range(1000001, 2000001)]\n",
        "start_time = time.time()\n",
        "result = sum(list1[i] * list2[i] for i in range(len(list1)))\n",
        "end_time = time.time()\n",
        "print(\"Time taken for element-wise multiplication:\", end_time - start_time, \"seconds\")"
      ],
      "metadata": {
        "colab": {
          "base_uri": "https://localhost:8080/"
        },
        "id": "ZoDLsLaqjfgE",
        "outputId": "29630080-b14a-4430-ce84-baf4c6c8864e"
      },
      "execution_count": 69,
      "outputs": [
        {
          "output_type": "stream",
          "name": "stdout",
          "text": [
            "Time taken for element-wise multiplication: 0.09217619895935059 seconds\n"
          ]
        }
      ]
    },
    {
      "cell_type": "code",
      "source": [
        "#Using Numpy Arrays, Repeat the calculation and measure and print the time taken for this operation.\n",
        "array1 = np.arange(1, 1000001)\n",
        "array2 = np.arange(1000001, 2000001)\n",
        "start_time = time.time()\n",
        "result = np.dot(array1,array2)\n",
        "end_time = time.time()\n",
        "print(\"Time taken for element-wise addition with NumPy:\", end_time - start_time, \"seconds\")"
      ],
      "metadata": {
        "colab": {
          "base_uri": "https://localhost:8080/"
        },
        "id": "SIAF4mS9j4E-",
        "outputId": "00139b42-21c2-478b-e968-0700a666e2ec"
      },
      "execution_count": 70,
      "outputs": [
        {
          "output_type": "stream",
          "name": "stdout",
          "text": [
            "Time taken for element-wise addition with NumPy: 0.001836538314819336 seconds\n"
          ]
        }
      ]
    },
    {
      "cell_type": "markdown",
      "source": [
        "Matrix Multiplication"
      ],
      "metadata": {
        "id": "uaIIlpookCRC"
      }
    },
    {
      "cell_type": "code",
      "source": [
        "#Using Python lists, perform matrix multiplication of two matrices of size 1000x1000. Measure and print the time taken for this operation.\n",
        "matrix_size = 1000\n",
        "matrix_A = [[i + j for j in range(matrix_size)] for i in range(matrix_size)]\n",
        "matrix_B = [[i * j for j in range(matrix_size)] for i in range(matrix_size)]\n",
        "\n",
        "start_time = time.time()\n",
        "result = [[sum(matrix_A[i][k] * matrix_B[k][j] for k in range(matrix_size)) for j in range(matrix_size)] for i in range(matrix_size)]\n",
        "end_time = time.time()\n",
        "\n",
        "# Print the time taken for the matrix multiplication\n",
        "print(\"Time taken for matrix multiplication using Python lists:\", end_time - start_time, \"seconds\")\n"
      ],
      "metadata": {
        "id": "EU68tOTTkEVu"
      },
      "execution_count": null,
      "outputs": []
    },
    {
      "cell_type": "code",
      "source": [
        "#Using NumPy arrays, perform matrix multiplication of two matrices of size 1000x1000.Measure and print the time taken for this operation.\n",
        "matrix_size = 1000\n",
        "MatrixA = np.random.rand(matrix_size, matrix_size)\n",
        "MatrixB = np.random.rand(matrix_size, matrix_size)\n",
        "\n",
        "# Start measuring time\n",
        "start_time = time.time()\n",
        "\n",
        "# Perform matrix multiplication using NumPy's dot function\n",
        "result= np.dot(MatrixA,MatrixB)\n",
        "\n",
        "# Measure the time taken\n",
        "end_time = time.time()\n",
        "\n",
        "# Print the time taken for the matrix multiplication\n",
        "print(\"Time taken for matrix multiplication using NumPy:\", end_time - start_time, \"seconds\")\n"
      ],
      "metadata": {
        "id": "ZVa3ihPLkjFL"
      },
      "execution_count": null,
      "outputs": []
    }
  ]
}